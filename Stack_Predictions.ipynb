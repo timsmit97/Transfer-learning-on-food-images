{
 "cells": [
  {
   "cell_type": "code",
   "execution_count": null,
   "metadata": {},
   "outputs": [],
   "source": [
    "import os\n",
    "import pandas as pd\n",
    "path='C:\\\\Users\\\\anne.klaver\\\\Documents\\\\voorspellingen'\n",
    "x=0\n",
    "dfs=[]\n",
    "for file in os.listdir(path):\n",
    "    #Only append predictions\n",
    "    if file != 'Stack_Predictions.ipynb' and file != '.ipynb_checkpoints':\n",
    "        df=pd.read_csv(file)\n",
    "        dfs.append(df)"
   ]
  },
  {
   "cell_type": "code",
   "execution_count": null,
   "metadata": {},
   "outputs": [],
   "source": [
    "#Create one large dataframe\n",
    "x=0\n",
    "enddf=pd.DataFrame(columns=['name'])\n",
    "\n",
    "for df in dfs:\n",
    "    x+=1\n",
    "    labelname='label'+str(x)\n",
    "    enddf[labelname]=df['label']\n",
    "    enddf['name']=df['img_name']\n",
    "\n",
    "enddf.head(10)"
   ]
  },
  {
   "cell_type": "code",
   "execution_count": null,
   "metadata": {},
   "outputs": [],
   "source": [
    "labels=[]\n",
    "from random import randrange\n",
    "for index,row in enddf.iterrows():\n",
    "    \n",
    "    #Create list of all predictions in a row\n",
    "    labeltjes=[]\n",
    "    for col in enddf.columns:\n",
    "        if col != 'name':\n",
    "            labeltjes.append(row[col])\n",
    "    \n",
    "    #Put all predicted labels in a dictionary (for each row) and count each occurance\n",
    "    dictje={}\n",
    "    for labeltje in labeltjes:\n",
    "        if labeltje in dictje:\n",
    "                dictje[labeltje]+=1\n",
    "        else:\n",
    "            dictje[labeltje]=1\n",
    "        \n",
    "    highest=0\n",
    "    secondhighest=0\n",
    "    secondhighestlabel=0\n",
    "    highestlabel=0\n",
    "    \n",
    "    #Search for highest and second highest\n",
    "    for x in dictje:\n",
    "        if dictje[x]> highest:\n",
    "            secondhighest=highest\n",
    "            secondhighestlabel=highestlabel\n",
    "            highest=dictje[x]\n",
    "            highestlabel=x\n",
    "        elif dictje[x]>= secondhighest:\n",
    "            secondhighest=dictje[x]\n",
    "            secondhighestlabel=x\n",
    "            \n",
    "    #If the highest and second highst are equal, then make a random choice\n",
    "    if secondhighest == highest:\n",
    "        choice=randrange(1,3)\n",
    "        if choice==1:\n",
    "            highestlabel=secondhighest\n",
    "    \n",
    "    labels.append(highestlabel)"
   ]
  },
  {
   "cell_type": "code",
   "execution_count": null,
   "metadata": {},
   "outputs": [],
   "source": [
    "#Add the final predictions together with the image name to a dataframe\n",
    "final = {'img_name':enddf['name'],'label':labels}\n",
    "final_df = pd.DataFrame(final)"
   ]
  },
  {
   "cell_type": "code",
   "execution_count": null,
   "metadata": {},
   "outputs": [],
   "source": [
    "#Export the final predictions to a csv file\n",
    "final_df.to_csv(\"Final_Predictions_Combined.csv\", index=False)"
   ]
  }
 ],
 "metadata": {
  "kernelspec": {
   "display_name": "Python 3",
   "language": "python",
   "name": "python3"
  },
  "language_info": {
   "codemirror_mode": {
    "name": "ipython",
    "version": 3
   },
   "file_extension": ".py",
   "mimetype": "text/x-python",
   "name": "python",
   "nbconvert_exporter": "python",
   "pygments_lexer": "ipython3",
   "version": "3.7.3"
  }
 },
 "nbformat": 4,
 "nbformat_minor": 2
}
