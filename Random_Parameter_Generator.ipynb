{
 "cells": [
  {
   "cell_type": "code",
   "execution_count": null,
   "metadata": {},
   "outputs": [],
   "source": [
    "import random \n",
    "\n",
    "#Define lists of posible learning rates, batch sizes, and training steps\n",
    "Learning_Rates = [0.01, 0.001, 0.0001]\n",
    "Batch_Size = [100, 150, 200, 250, 300, 350, 400, 450, 500, 550, 600, 650, 700, 750, 800]\n",
    "Training_Steps = [5000, 6000, 7000, 8000, 9000, 10000, 11000, 12000, 13000, 14000, 15000]\n",
    "\n",
    "#Randomly create 30 combinations of paramters\n",
    "Random_Parameter_Combinations = []\n",
    "for i in range (0,30):\n",
    "    LR = random.choice(Learning_Rates)\n",
    "    BS = random.choice(Batch_Size)\n",
    "    TS = random.choice(Training_Steps)\n",
    "    Random_Parameter_Combinations.append([LR, BS, TS])\n",
    "\n",
    "#Print all 30 combinations\n",
    "print(Random_Parameter_Combinations)"
   ]
  }
 ],
 "metadata": {
  "kernelspec": {
   "display_name": "Python 3",
   "language": "python",
   "name": "python3"
  },
  "language_info": {
   "codemirror_mode": {
    "name": "ipython",
    "version": 3
   },
   "file_extension": ".py",
   "mimetype": "text/x-python",
   "name": "python",
   "nbconvert_exporter": "python",
   "pygments_lexer": "ipython3",
   "version": "3.7.3"
  }
 },
 "nbformat": 4,
 "nbformat_minor": 2
}
